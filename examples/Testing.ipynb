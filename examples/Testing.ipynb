{
 "cells": [
  {
   "cell_type": "code",
   "execution_count": null,
   "metadata": {},
   "outputs": [],
   "source": [
    "# to automatically reload modules who's content has changed\n",
    "%load_ext autoreload\n",
    "%autoreload 2\n",
    "# configure matplotlib\n",
    "%matplotlib inline\n",
    "#%config InlineBackend.figure_format = 'svg'\n",
    "from IPython.core.debugger import set_trace"
   ]
  },
  {
   "cell_type": "code",
   "execution_count": null,
   "metadata": {},
   "outputs": [],
   "source": [
    "import time\n",
    "import numpy as np\n",
    "import scipy\n",
    "import sklearn.gaussian_process as sk_gp\n",
    "import matplotlib.pyplot as plt\n",
    "import warnings\n",
    "warnings.filterwarnings(\"ignore\", message=\"numpy.dtype size changed\") # annoying seaborn bug\n",
    "import seaborn as sns;sns.set()"
   ]
  },
  {
   "cell_type": "code",
   "execution_count": null,
   "metadata": {},
   "outputs": [],
   "source": [
    "import sys\n",
    "sys.path.append('..')\n",
    "import distributed_gp as dgp"
   ]
  },
  {
   "cell_type": "code",
   "execution_count": null,
   "metadata": {},
   "outputs": [],
   "source": [
    "noise = 0.5\n",
    "def to_fit(x):\n",
    "    v = np.sin(x*2) * 0.2*x**2 + 4*np.cos(x)\n",
    "    if noise != 0:\n",
    "        v += np.random.normal(loc=0, scale=noise, size=np.asarray(x).shape)\n",
    "    return v"
   ]
  },
  {
   "cell_type": "code",
   "execution_count": null,
   "metadata": {},
   "outputs": [],
   "source": [
    "np.random.seed(0)\n",
    "num_samples = 1000\n",
    "X = np.random.uniform(0, 10, size=(num_samples, 1))\n",
    "y = to_fit(X)\n",
    "\n",
    "xs = np.linspace(0, 10, num=200)"
   ]
  },
  {
   "cell_type": "code",
   "execution_count": null,
   "metadata": {},
   "outputs": [],
   "source": [
    "def plot_to_fit(ax=None):\n",
    "    if ax is None:\n",
    "        fig, ax = plt.subplots(figsize=(20, 8))\n",
    "    ax.plot(xs, to_fit(xs), '--', color='grey')\n",
    "    ax.scatter(X, y, color='C3', zorder=5)\n",
    "def plot_prediction(mu_pred, sig_pred, ax=None):\n",
    "    if ax is None:\n",
    "        fig, ax = plt.subplots(figsize=(20, 8))\n",
    "    ax.plot(xs, mu_pred)\n",
    "    ax.fill_between(xs, (mu_pred-sig_pred).flatten(), (mu_pred+sig_pred).flatten(), alpha=0.2)\n",
    "plot_to_fit()"
   ]
  },
  {
   "cell_type": "code",
   "execution_count": null,
   "metadata": {},
   "outputs": [],
   "source": [
    "def full_GP():\n",
    "    np.random.seed(0) \n",
    "    start = time.perf_counter()\n",
    "    training_iterations = 1\n",
    "    k = sk_gp.kernels.ConstantKernel(5) * sk_gp.kernels.RBF() + sk_gp.kernels.WhiteKernel()\n",
    "    gp = sk_gp.GaussianProcessRegressor(kernel=k, alpha=0, n_restarts_optimizer=training_iterations-1)\n",
    "    gp.fit(X, y)\n",
    "    print('fitted in {}'.format(time.perf_counter()-start))\n",
    "    print('optimised theta =', np.exp(gp.kernel_.theta))\n",
    "    print('likelihood =', gp.log_marginal_likelihood())\n",
    "    \n",
    "    mu_pred, sig_pred = gp.predict(xs.reshape(-1, 1), return_std=True)\n",
    "    sig_pred = sig_pred.reshape(-1, 1)\n",
    "    \n",
    "    fig, ax = plt.subplots(figsize=(20, 8))\n",
    "    plot_to_fit(ax)\n",
    "    plot_prediction(mu_pred, sig_pred, ax=ax)\n",
    "    \n",
    "full_GP()"
   ]
  },
  {
   "cell_type": "code",
   "execution_count": null,
   "metadata": {},
   "outputs": [],
   "source": [
    "def dist_GP():\n",
    "    np.random.seed(0) \n",
    "    start = time.perf_counter()\n",
    "    k = sk_gp.kernels.ConstantKernel() * sk_gp.kernels.RBF() + sk_gp.kernels.WhiteKernel()\n",
    "    gp = dgp.DistributedGP(X, y, num_experts=10, kernel=k)\n",
    "    gp.optimise_params(iterations=1)\n",
    "    print('fitted in {}'.format(time.perf_counter()-start))\n",
    "    print('optimised theta =', np.exp(gp.kernel.theta))\n",
    "    print('likelihood =', gp.log_marginal_likelihood())\n",
    "    \n",
    "    mu, var = gp.predict_POE(xs.reshape(-1, 1))\n",
    "    sigma = np.sqrt(var)\n",
    "    \n",
    "    fig, ax = plt.subplots(figsize=(20, 8))\n",
    "    plot_to_fit(ax)\n",
    "    plot_prediction(mu, sigma, ax=ax)\n",
    "    #for e in gp.experts: plot_prediction(*e.predict(xs.reshape(-1,1)), ax=ax)\n",
    "    \n",
    "dist_GP()"
   ]
  },
  {
   "cell_type": "code",
   "execution_count": null,
   "metadata": {},
   "outputs": [],
   "source": []
  },
  {
   "cell_type": "code",
   "execution_count": null,
   "metadata": {},
   "outputs": [],
   "source": []
  },
  {
   "cell_type": "code",
   "execution_count": null,
   "metadata": {},
   "outputs": [],
   "source": []
  },
  {
   "cell_type": "code",
   "execution_count": null,
   "metadata": {},
   "outputs": [],
   "source": []
  }
 ],
 "metadata": {
  "kernelspec": {
   "display_name": "Python 3",
   "language": "python",
   "name": "python3"
  },
  "language_info": {
   "codemirror_mode": {
    "name": "ipython",
    "version": 3
   },
   "file_extension": ".py",
   "mimetype": "text/x-python",
   "name": "python",
   "nbconvert_exporter": "python",
   "pygments_lexer": "ipython3",
   "version": "3.6.5"
  }
 },
 "nbformat": 4,
 "nbformat_minor": 2
}
